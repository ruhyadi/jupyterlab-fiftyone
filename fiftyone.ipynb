{
 "cells": [
  {
   "cell_type": "code",
   "execution_count": 1,
   "id": "974af02e-c61a-48ed-9e98-8df9619dc8dd",
   "metadata": {},
   "outputs": [
    {
     "name": "stdout",
     "output_type": "stream",
     "text": [
      "Split 'train' already downloaded\n",
      "Split 'test' already downloaded\n",
      "Loading existing dataset 'mnist'. To reload from disk, either delete the existing dataset or provide a custom `dataset_name` to use\n"
     ]
    }
   ],
   "source": [
    "import fiftyone as fo\n",
    "import fiftyone.zoo as foz\n",
    "\n",
    "dataset = foz.load_zoo_dataset(\"mnist\")"
   ]
  },
  {
   "cell_type": "code",
   "execution_count": 2,
   "id": "c184bfb3-03b7-4276-a85f-1f56402cc5c3",
   "metadata": {},
   "outputs": [],
   "source": [
    "test_split = dataset.match_tags(\"test\")"
   ]
  },
  {
   "cell_type": "code",
   "execution_count": 3,
   "id": "1b85c034-2001-46f6-af79-e95b8e38d203",
   "metadata": {},
   "outputs": [
    {
     "name": "stdout",
     "output_type": "stream",
     "text": [
      "Dataset:     mnist\n",
      "Media type:  image\n",
      "Num samples: 10000\n",
      "Tags:        ['test']\n",
      "Sample fields:\n",
      "    id:           fiftyone.core.fields.ObjectIdField\n",
      "    filepath:     fiftyone.core.fields.StringField\n",
      "    tags:         fiftyone.core.fields.ListField(fiftyone.core.fields.StringField)\n",
      "    metadata:     fiftyone.core.fields.EmbeddedDocumentField(fiftyone.core.metadata.Metadata)\n",
      "    ground_truth: fiftyone.core.fields.EmbeddedDocumentField(fiftyone.core.labels.Classification)\n",
      "View stages:\n",
      "    1. MatchTags(tags=['test'], bool=True)\n"
     ]
    }
   ],
   "source": [
    "print(test_split)"
   ]
  },
  {
   "cell_type": "code",
   "execution_count": 4,
   "id": "c32de808-790b-422e-8dd5-978e042f2b1b",
   "metadata": {},
   "outputs": [
    {
     "name": "stdout",
     "output_type": "stream",
     "text": [
      "Generating visualization...\n",
      "UMAP(random_state=51, verbose=True)\n",
      "Thu Apr 14 02:53:53 2022 Construct fuzzy simplicial set\n",
      "Thu Apr 14 02:53:53 2022 Finding Nearest Neighbors\n",
      "Thu Apr 14 02:53:53 2022 Building RP forest with 10 trees\n",
      "Thu Apr 14 02:53:54 2022 NN descent for 13 iterations\n",
      "\t 1  /  13\n",
      "\t 2  /  13\n",
      "\t 3  /  13\n",
      "\t 4  /  13\n",
      "\tStopping threshold met -- exiting after 4 iterations\n",
      "Thu Apr 14 02:54:00 2022 Finished Nearest Neighbor Search\n",
      "Thu Apr 14 02:54:02 2022 Construct embedding\n"
     ]
    },
    {
     "data": {
      "application/vnd.jupyter.widget-view+json": {
       "model_id": "cec3adb9311942c5bf4c1549ce0a9772",
       "version_major": 2,
       "version_minor": 0
      },
      "text/plain": [
       "Epochs completed:   0%|            0/500 [00:00]"
      ]
     },
     "metadata": {},
     "output_type": "display_data"
    },
    {
     "name": "stdout",
     "output_type": "stream",
     "text": [
      "Thu Apr 14 02:54:14 2022 Finished embedding\n"
     ]
    }
   ],
   "source": [
    "import cv2\n",
    "import numpy as np\n",
    "\n",
    "import fiftyone.brain as fob\n",
    "\n",
    "# Construct a ``num_samples x num_pixels`` array of images\n",
    "embeddings = np.array([\n",
    "    cv2.imread(f, cv2.IMREAD_UNCHANGED).ravel()\n",
    "    for f in test_split.values(\"filepath\")\n",
    "])\n",
    "\n",
    "# Compute 2D representation\n",
    "results = fob.compute_visualization(\n",
    "    test_split,\n",
    "    embeddings=embeddings,\n",
    "    num_dims=2,\n",
    "    method=\"umap\",\n",
    "    brain_key=\"mnist_test\",\n",
    "    verbose=True,\n",
    "    seed=51,\n",
    ")"
   ]
  },
  {
   "cell_type": "code",
   "execution_count": 5,
   "id": "d39c2a91-7d2a-480a-aee9-81e1cc4b250e",
   "metadata": {},
   "outputs": [
    {
     "name": "stdout",
     "output_type": "stream",
     "text": [
      "<class 'fiftyone.brain.visualization.VisualizationResults'>\n",
      "(10000, 2)\n"
     ]
    }
   ],
   "source": [
    "print(type(results))\n",
    "print(results.points.shape)"
   ]
  },
  {
   "cell_type": "code",
   "execution_count": 7,
   "id": "bd2ccae6-256f-41c3-9269-e6e597795440",
   "metadata": {},
   "outputs": [
    {
     "name": "stdout",
     "output_type": "stream",
     "text": [
      "Session launched. Run `session.show()` to open the App in a cell output.\n"
     ]
    },
    {
     "data": {
      "application/javascript": [
       "window.open('http://localhost:5151/');"
      ],
      "text/plain": [
       "<IPython.core.display.Javascript object>"
      ]
     },
     "metadata": {},
     "output_type": "display_data"
    }
   ],
   "source": [
    "# Launch App instance\n",
    "session = fo.launch_app(view=test_split, auto=False)"
   ]
  },
  {
   "cell_type": "code",
   "execution_count": 9,
   "id": "a3d3e7a6-7d38-41a3-8575-4e5ad20d83a2",
   "metadata": {
    "tags": []
   },
   "outputs": [
    {
     "data": {
      "text/plain": []
     },
     "metadata": {},
     "output_type": "display_data"
    },
    {
     "data": {
      "text/plain": []
     },
     "metadata": {},
     "output_type": "display_data"
    },
    {
     "data": {
      "application/vnd.jupyter.widget-view+json": {
       "model_id": "87194e9e8a3c43ca8d70ca7a7acdd52b",
       "version_major": 2,
       "version_minor": 0
      },
      "text/plain": [
       "FigureWidget({\n",
       "    'data': [{'customdata': array(['62578c50b0ef1a8a3b32c3db', '62578c50b0ef1a8a3b32c3ee',\n",
       "    …"
      ]
     },
     "metadata": {},
     "output_type": "display_data"
    }
   ],
   "source": [
    "# Plot embeddings colored by ground truth label\n",
    "plot = results.visualize(labels=\"ground_truth.label\")\n",
    "plot.show(height=720)\n",
    "\n",
    "# Attach plot to session\n",
    "session.plots.attach(plot)"
   ]
  },
  {
   "cell_type": "code",
   "execution_count": null,
   "id": "1afc8ec9-714b-43ea-8d52-c3d69750c50a",
   "metadata": {
    "jupyter": {
     "source_hidden": true
    },
    "tags": []
   },
   "outputs": [],
   "source": []
  },
  {
   "cell_type": "code",
   "execution_count": null,
   "id": "60eb70e5-d0a3-4531-aec4-56f16b61ccf1",
   "metadata": {},
   "outputs": [],
   "source": []
  },
  {
   "cell_type": "code",
   "execution_count": null,
   "id": "0879be96-0e24-4945-99ba-ddfe51fc06a4",
   "metadata": {},
   "outputs": [],
   "source": []
  }
 ],
 "metadata": {
  "kernelspec": {
   "display_name": "Python 3 (ipykernel)",
   "language": "python",
   "name": "python3"
  },
  "language_info": {
   "codemirror_mode": {
    "name": "ipython",
    "version": 3
   },
   "file_extension": ".py",
   "mimetype": "text/x-python",
   "name": "python",
   "nbconvert_exporter": "python",
   "pygments_lexer": "ipython3",
   "version": "3.8.13"
  }
 },
 "nbformat": 4,
 "nbformat_minor": 5
}
